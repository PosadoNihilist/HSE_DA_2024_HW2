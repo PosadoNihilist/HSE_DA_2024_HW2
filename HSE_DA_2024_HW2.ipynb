{
 "cells": [
  {
   "cell_type": "code",
   "execution_count": 11,
   "metadata": {},
   "outputs": [],
   "source": [
    "from selenium import webdriver\n",
    "import pandas as pd\n",
    "from selenium.webdriver.common.by import By\n",
    "import numpy as np\n",
    "import time"
   ]
  },
  {
   "cell_type": "markdown",
   "metadata": {},
   "source": [
    "# ДЗ 2 Selenium\n",
    "\n",
    "Сайт = https://1000.menu/\n",
    "\n",
    "Код ищет рецепты для блюд в списке search. Затем он заходит в каждый отдельный рецепт и там находит список ингридиентов и основные нутриенты. "
   ]
  },
  {
   "cell_type": "code",
   "execution_count": 1,
   "metadata": {},
   "outputs": [],
   "source": [
    "search = ['тирамису', 'маффин', 'торт', 'пирожное', \"пирог\", \"варенье\"]"
   ]
  },
  {
   "cell_type": "markdown",
   "metadata": {},
   "source": [
    "Код находит для каждого блюда калорийность, время приготовления, ссылку, имя, и описания рецептов в результате. "
   ]
  },
  {
   "cell_type": "code",
   "execution_count": null,
   "metadata": {},
   "outputs": [],
   "source": [
    "driver = webdriver.Chrome()\n",
    "queries = []\n",
    "calories = []\n",
    "times = []\n",
    "links = []\n",
    "names = []\n",
    "descriptions = []\n",
    "for query in search:\n",
    "    url = f'https://1000.menu/cooking/search?ms=1&str={query}'\n",
    "    try:\n",
    "        driver.get(url)\n",
    "    except Exception as e:\n",
    "        print(f\"An error occurred: {e}\")\n",
    "\n",
    "    for _ in range(5): \n",
    "        driver.execute_script(\"window.scrollBy(0, 1000);\")\n",
    "        time.sleep(1)\n",
    "        \n",
    "    recipes = driver.find_elements(By.CLASS_NAME, \"cn-item\")\n",
    "    \n",
    "    for recipe in recipes:  \n",
    "        try:\n",
    "            left = recipe.find_element(By.CLASS_NAME, \"level-left\")\n",
    "            calories.append(left.text) if left else calories.append(np.nan)\n",
    "            right = recipe.find_element(By.CLASS_NAME, \"level-right\")\n",
    "            times.append(right.text) if right else times.append(np.nan)\n",
    "            heading = recipe.find_element(By.CLASS_NAME, \"h5\")\n",
    "            link = heading.get_attribute('href')\n",
    "            links.append(link) if link else links.append(np.nan)\n",
    "            name = heading.text\n",
    "            names.append(name)\n",
    "            preview = recipe.find_element(By.CLASS_NAME, \"preview-text\")\n",
    "            descriptions.append(preview.text)\n",
    "            queries.append(query)\n",
    "        except: \n",
    "            all_recipes = pd.DataFrame({\n",
    "                'calories':calories,\n",
    "                'time':times,\n",
    "                'link':links,\n",
    "                'name':names,\n",
    "                'description':descriptions,\n",
    "                'query':queries\n",
    "            })\n",
    "            pass\n",
    "            \n",
    "\n",
    "driver.quit()"
   ]
  },
  {
   "cell_type": "code",
   "execution_count": null,
   "metadata": {},
   "outputs": [],
   "source": [
    "all_recipes"
   ]
  },
  {
   "cell_type": "markdown",
   "metadata": {},
   "source": [
    "Убираем дубликаты"
   ]
  },
  {
   "cell_type": "code",
   "execution_count": 111,
   "metadata": {},
   "outputs": [],
   "source": [
    "all_recipes.drop_duplicates(subset=['link'], inplace=True, ignore_index=True)"
   ]
  },
  {
   "cell_type": "code",
   "execution_count": 64,
   "metadata": {},
   "outputs": [],
   "source": [
    "mega_ingredients = []\n",
    "mega_macros = []"
   ]
  },
  {
   "cell_type": "markdown",
   "metadata": {},
   "source": [
    "Код заходит на каждую ссылку и берет список ингредиентов и список белков, жиров, углеводов"
   ]
  },
  {
   "cell_type": "code",
   "execution_count": 69,
   "metadata": {},
   "outputs": [],
   "source": [
    "driver = webdriver.Chrome()\n",
    "all_links = []\n",
    "for link in all_recipes.link:\n",
    "    ingredients_list = []\n",
    "    macros = []\n",
    "    url = link\n",
    "    try:\n",
    "        driver.get(url)\n",
    "    except Exception as e:\n",
    "        print(f\"An error occurred: {e}\")\n",
    "\n",
    "    for _ in range(2): \n",
    "        driver.execute_script(\"window.scrollBy(0, 500);\")\n",
    "        time.sleep(1)\n",
    "    try:\n",
    "        ingredients = driver.find_elements(By.CLASS_NAME, \"ingredient.list-item\")\n",
    "        for ingredient in ingredients:\n",
    "            meta = ingredient.find_element(By.CSS_SELECTOR, '[itemprop=\"recipeIngredient\"]')\n",
    "            ingredients_list.append(meta.get_attribute('content'))\n",
    "    except: \n",
    "        ingredients_list.append(np.nan)\n",
    "    try:\n",
    "        calories = driver.find_elements(By.CLASS_NAME, \"percent\")\n",
    "        for macro in calories:\n",
    "            macros.append(macro.text)\n",
    "    except:\n",
    "        macros.append(np.nan)\n",
    "    mega_ingredients.append(ingredients_list)\n",
    "    mega_macros.append(macros)\n",
    "    all_links.append(link)\n",
    "\n",
    "driver.quit()\n"
   ]
  },
  {
   "cell_type": "code",
   "execution_count": null,
   "metadata": {},
   "outputs": [],
   "source": [
    "ingredients_and_macros = pd.DataFrame({\n",
    "    'link':all_links,\n",
    "    'macros':mega_macros,\n",
    "    'ingredients':mega_ingredients\n",
    "})"
   ]
  },
  {
   "cell_type": "markdown",
   "metadata": {},
   "source": [
    "Получается одна большая таблица"
   ]
  },
  {
   "cell_type": "code",
   "execution_count": 166,
   "metadata": {},
   "outputs": [],
   "source": [
    "all_recipes = pd.merge(all_recipes, ingredients_and_macros, on='link', how='left')"
   ]
  },
  {
   "cell_type": "code",
   "execution_count": 168,
   "metadata": {},
   "outputs": [],
   "source": [
    "all_recipes.to_csv('all_recipes.csv', encoding=\"utf-8\")"
   ]
  }
 ],
 "metadata": {
  "kernelspec": {
   "display_name": "Python 3",
   "language": "python",
   "name": "python3"
  },
  "language_info": {
   "codemirror_mode": {
    "name": "ipython",
    "version": 3
   },
   "file_extension": ".py",
   "mimetype": "text/x-python",
   "name": "python",
   "nbconvert_exporter": "python",
   "pygments_lexer": "ipython3",
   "version": "3.12.6"
  }
 },
 "nbformat": 4,
 "nbformat_minor": 2
}
